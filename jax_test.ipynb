{
 "cells": [
  {
   "cell_type": "code",
   "execution_count": null,
   "metadata": {},
   "outputs": [],
   "source": [
    "import jax\n",
    "import jax.numpy as jnp\n",
    "import numpy as np\n",
    "\n",
    "import gym\n",
    "import matplotlib.pyplot as plt\n",
    "import matplotlib.animation as animation\n",
    "from matplotlib.animation import FuncAnimation\n",
    "from typing import Iterable, Union\n",
    "import time"
   ]
  },
  {
   "cell_type": "code",
   "execution_count": null,
   "metadata": {},
   "outputs": [],
   "source": [
    "env = gym.make('CartPole-v1', render_mode=\"rgb_array\")\n",
    "env.reset()\n",
    "image_seq = []"
   ]
  },
  {
   "cell_type": "code",
   "execution_count": null,
   "metadata": {},
   "outputs": [],
   "source": [
    "done = False\n",
    "while not done:\n",
    "  observation, reward, done, truncated, info = env.step(env.action_space.sample())\n",
    "  image_seq.append(env.render())"
   ]
  },
  {
   "cell_type": "code",
   "execution_count": null,
   "metadata": {},
   "outputs": [],
   "source": [
    "def animate(image_seq: Iterable, axes=None, close_fig=True):\n",
    "  from matplotlib import rc\n",
    "  rc('animation', html='html5')\n",
    "\n",
    "  fig = plt.figure() # get current figure\n",
    "  if axes is None:\n",
    "    fig, axes = plt.subplots(1,1)\n",
    "\n",
    "  graphical_element = axes.imshow(image_seq[0])\n",
    "\n",
    "  def animate_frame(i):\n",
    "    graphical_element.set_data(image_seq[i])\n",
    "    return graphical_element,\n",
    "  animation_handler = animation.FuncAnimation(fig, animate_frame, frames=len(image_seq), interval=50)\n",
    "\n",
    "  if close_fig:\n",
    "    plt.close(fig)\n",
    "    \n",
    "  return animation_handler"
   ]
  },
  {
   "cell_type": "code",
   "execution_count": null,
   "metadata": {},
   "outputs": [],
   "source": [
    "a = animate(image_seq)\n",
    "print(type(a))\n",
    "a\n",
    "\n"
   ]
  },
  {
   "cell_type": "code",
   "execution_count": null,
   "metadata": {},
   "outputs": [],
   "source": []
  }
 ],
 "metadata": {
  "kernelspec": {
   "display_name": "Python 3.9.6 ('RL')",
   "language": "python",
   "name": "python3"
  },
  "language_info": {
   "codemirror_mode": {
    "name": "ipython",
    "version": 3
   },
   "file_extension": ".py",
   "mimetype": "text/x-python",
   "name": "python",
   "nbconvert_exporter": "python",
   "pygments_lexer": "ipython3",
   "version": "3.9.6"
  },
  "vscode": {
   "interpreter": {
    "hash": "25f36fc7060c5fa438d5d5ba87fb1f9d2eb086d328c20a03575dd46406d78752"
   }
  }
 },
 "nbformat": 4,
 "nbformat_minor": 2
}
